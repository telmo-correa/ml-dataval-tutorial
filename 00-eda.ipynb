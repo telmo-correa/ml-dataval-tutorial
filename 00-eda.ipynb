{
 "cells": [
  {
   "cell_type": "markdown",
   "id": "58702607-a6ce-4ee8-bedf-81bc2ad0c4c0",
   "metadata": {},
   "source": [
    "![](https://raw.githubusercontent.com/wandb/wandb/508982e50e82c54cbf0dd464a9959fee0e1740ad/.github/wb-logo-lightbg.png)\n",
    "<!--- @wandbcode{dataval-course-00} -->"
   ]
  },
  {
   "cell_type": "code",
   "execution_count": null,
   "id": "75ea2d85-e181-46a5-9306-6e93d94bcfea",
   "metadata": {
    "tags": []
   },
   "outputs": [],
   "source": [
    "from dataval.dataset import WeatherDataset\n",
    "from dataval.plot import violinplot\n",
    "\n",
    "import matplotlib\n",
    "import os\n",
    "import pandas as pd\n",
    "import seaborn as sns\n",
    "\n",
    "import wandb\n",
    "\n",
    "os.environ[\"WANDB_QUIET\"] = \"true\" # Let's keep the output clean\n",
    "\n",
    "# Let's start a new W&B run to track our work\n",
    "run = wandb.init(project=\"ml-dataval-tutorial\")"
   ]
  },
  {
   "cell_type": "code",
   "execution_count": null,
   "id": "1bd31fc5-e397-4f71-b813-a59907380cf3",
   "metadata": {
    "tags": []
   },
   "outputs": [],
   "source": [
    "ds = WeatherDataset(os.path.join(os.getcwd(), \"canonical-paritioned-dataset\"))"
   ]
  },
  {
   "cell_type": "markdown",
   "id": "9b6f6483-c8c0-45c1-9cf7-71caeaecba9d",
   "metadata": {
    "tags": []
   },
   "source": [
    "# Explore Data\n",
    "\n",
    "Appendix C.2 has the description of features: https://arxiv.org/pdf/2107.07455.pdf. We'll mainly explore the first partition."
   ]
  },
  {
   "cell_type": "code",
   "execution_count": null,
   "id": "8a05277a-965c-4920-bd44-51bb62b6546d",
   "metadata": {},
   "outputs": [],
   "source": [
    "print(ds.get_partition_keys())"
   ]
  },
  {
   "cell_type": "code",
   "execution_count": null,
   "id": "ad852c5b-5745-45af-93c1-b4810e411e9e",
   "metadata": {},
   "outputs": [],
   "source": [
    "len(ds.get_partition_keys())"
   ]
  },
  {
   "cell_type": "code",
   "execution_count": null,
   "id": "3a889c6f-8fb0-431d-b600-bd76522c9e81",
   "metadata": {
    "tags": []
   },
   "outputs": [],
   "source": [
    "df = ds.load(ds.get_partition_keys()[0])\n",
    "df.head()\n",
    "\n",
    "# Let's log a sample of the data to W&B Tables\n",
    "wandb.log({\"sample\": wandb.Table(dataframe=df.head())})"
   ]
  },
  {
   "cell_type": "code",
   "execution_count": null,
   "id": "c4218fa1-6a95-432d-85c4-8d7de4633b0e",
   "metadata": {
    "tags": []
   },
   "outputs": [],
   "source": [
    "plot = violinplot(df, \"fact_temperature\", \"hour\")\n",
    "wandb.log({\"fact_temperature\": wandb.Image(plot.figure)})"
   ]
  },
  {
   "cell_type": "code",
   "execution_count": null,
   "id": "2de2c359-dcf5-45bd-924f-e9c183bc37c4",
   "metadata": {},
   "outputs": [],
   "source": [
    "plot = violinplot(df, \"climate_pressure\", \"hour\")\n",
    "wandb.log({\"climate_pressure\": wandb.Image(plot.figure)})"
   ]
  },
  {
   "cell_type": "code",
   "execution_count": null,
   "id": "2b67547e-9119-4a92-8b74-1735ffd7ff76",
   "metadata": {},
   "outputs": [],
   "source": [
    "plot = violinplot(df, \"sun_elevation\", \"hour\")\n",
    "wandb.log({\"sun_elevation\": wandb.Image(plot.figure)})"
   ]
  },
  {
   "cell_type": "code",
   "execution_count": null,
   "id": "614a811f-6a80-4b07-bbd2-87d4d48c73bf",
   "metadata": {},
   "outputs": [],
   "source": [
    "# We can finish now the W&B run\n",
    "run.finish()"
   ]
  },
  {
   "cell_type": "code",
   "execution_count": null,
   "id": "02278c31",
   "metadata": {},
   "outputs": [],
   "source": []
  }
 ],
 "metadata": {
  "kernelspec": {
   "display_name": "Python 3 (ipykernel)",
   "language": "python",
   "name": "python3"
  },
  "language_info": {
   "codemirror_mode": {
    "name": "ipython",
    "version": 3
   },
   "file_extension": ".py",
   "mimetype": "text/x-python",
   "name": "python",
   "nbconvert_exporter": "python",
   "pygments_lexer": "ipython3",
   "version": "3.8.17"
  }
 },
 "nbformat": 4,
 "nbformat_minor": 5
}
