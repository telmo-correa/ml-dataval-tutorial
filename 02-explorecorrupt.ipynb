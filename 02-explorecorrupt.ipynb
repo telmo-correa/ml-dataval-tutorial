{
 "cells": [
  {
   "cell_type": "markdown",
   "id": "8c0aa718-03f9-42f7-bfc9-ad1110c4ef2a",
   "metadata": {
    "tags": []
   },
   "source": [
    "![](https://raw.githubusercontent.com/wandb/wandb/508982e50e82c54cbf0dd464a9959fee0e1740ad/.github/wb-logo-lightbg.png)\n",
    "<!--- @wandbcode{dataval-course-02} -->"
   ]
  },
  {
   "cell_type": "code",
   "execution_count": null,
   "id": "3322a73c-917b-4ec4-9dc7-acba571b0e67",
   "metadata": {
    "tags": []
   },
   "outputs": [],
   "source": [
    "from dataval.dataset import WeatherDataset\n",
    "from dataval.train import CatBoostTrainer\n",
    "from dataval import dataset_extensions\n",
    "\n",
    "import os\n",
    "import matplotlib.pyplot as plt\n",
    "import pandas as pd\n",
    "\n",
    "import wandb\n",
    "\n",
    "os.environ[\"WANDB_QUIET\"] = \"true\" # Let's keep the output clean\n",
    "\n",
    "# Let's start a new W&B run to track our work\n",
    "run = wandb.init(project=\"ml-dataval-tutorial\")"
   ]
  },
  {
   "cell_type": "markdown",
   "id": "7eaf168b-53ed-4a2e-b225-43b5c15e60f0",
   "metadata": {},
   "source": [
    "# Explore Corruptions\n",
    "\n",
    "We are going to introduce some corruptions into our data, with varying degrees of errors. The purpose of this exercise is to learn that corruptions vary in:\n",
    "\n",
    "* How hard they are to catch\n",
    "* How much they actually impact downstream accuracy\n",
    "\n",
    "We will use the continual training pipeline from the first notebook, and the corruption utility functions in `dataval/dataset.py`."
   ]
  },
  {
   "cell_type": "code",
   "execution_count": null,
   "id": "33806109-044d-4da8-bf8c-8485e8fb9ee9",
   "metadata": {
    "tags": []
   },
   "outputs": [],
   "source": [
    "# Load dataset\n",
    "\n",
    "ds = WeatherDataset(os.path.join(os.getcwd(), \"canonical-paritioned-dataset\"), sample_frac=0.2)"
   ]
  },
  {
   "cell_type": "markdown",
   "id": "ed78dc60-3242-459e-8b84-c51d3c82c50f",
   "metadata": {},
   "source": [
    "## Obvious Corruptions\n",
    "\n",
    "Data is obviously corrupted if it is:\n",
    "\n",
    "* Denoted with a missing value (i.e., nan)\n",
    "* Violating nonnegativity constraints (e.g., negative pressure value)\n",
    "* Doesn't type check\n",
    "\n",
    "We will corrupt columns in the same sensor group."
   ]
  },
  {
   "cell_type": "code",
   "execution_count": null,
   "id": "c1cb8c8d-1563-408a-8947-835e58d0ce5b",
   "metadata": {
    "tags": []
   },
   "outputs": [],
   "source": [
    "train_df = ds.load(ds.get_partition_keys()[0])\n",
    "test_df = ds.load(ds.get_partition_keys()[1])"
   ]
  },
  {
   "cell_type": "code",
   "execution_count": null,
   "id": "b641510f-6f32-4314-8dc8-38b3db46c1d9",
   "metadata": {
    "tags": []
   },
   "outputs": [],
   "source": [
    "# Establish baseline MSE with clean train and test data\n",
    "\n",
    "t, _, _ = ds.train_and_test(train_df, test_df)\n",
    "\n",
    "print()\n",
    "print(t.get_feature_importance().head(5))"
   ]
  },
  {
   "cell_type": "markdown",
   "id": "d45ba4ef-8ace-458e-a31a-83cad8a10fa2",
   "metadata": {},
   "source": [
    "### Missing Value Corruption\n",
    "\n",
    "First, we corrupt just 5% of the test data for the `cmc` sensor group. Note how much worse the test performance is!"
   ]
  },
  {
   "cell_type": "code",
   "execution_count": null,
   "id": "1907e4ec-b179-4a3a-8b4e-10b9d1580eae",
   "metadata": {},
   "outputs": [],
   "source": [
    "corruption_results = []\n",
    "corruption_results_by_feature = []"
   ]
  },
  {
   "cell_type": "code",
   "execution_count": null,
   "id": "c25d743a-2cea-444f-abd4-20ec9d3f0518",
   "metadata": {},
   "outputs": [],
   "source": [
    "corrupted_test_df, _ = ds.corrupt_null(test_df, \"cmc\", corruption_rate=0.05)\n",
    "\n",
    "t, train_mse, test_mse = ds.train_and_test(train_df, corrupted_test_df)\n",
    "print()\n",
    "print(t.get_feature_importance().head(5))\n",
    "\n",
    "corruption_results.append({\"name\": \"missing_value_0.05\", \"train_mse\": train_mse, \"test_mse\": test_mse})"
   ]
  },
  {
   "cell_type": "code",
   "execution_count": null,
   "id": "bc03f0e2-e877-455f-a88f-6697e6226b13",
   "metadata": {
    "tags": []
   },
   "outputs": [],
   "source": [
    "corrupted_test_df, _ = ds.corrupt_null_by_feature(test_df, \"cmc\", corruption_rate=0.05)\n",
    "\n",
    "t, train_mse, test_mse = ds.train_and_test(train_df, corrupted_test_df)\n",
    "print()\n",
    "print(t.get_feature_importance().head(5))\n",
    "\n",
    "corruption_results_by_feature.append({\"name\": \"missing_value_0.05\", \"train_mse\": train_mse, \"test_mse\": test_mse})"
   ]
  },
  {
   "cell_type": "markdown",
   "id": "69f3526c-be23-440e-8346-f053b82d7c09",
   "metadata": {},
   "source": [
    "It gets even worse when increasing the corruption rate to 20%."
   ]
  },
  {
   "cell_type": "code",
   "execution_count": null,
   "id": "b785dca6-e364-4bf1-9447-c66d2764eda0",
   "metadata": {},
   "outputs": [],
   "source": [
    "corrupted_test_df, _ = ds.corrupt_null(test_df, \"cmc\", corruption_rate=0.20)\n",
    "\n",
    "t, train_mse, test_mse = ds.train_and_test(train_df, corrupted_test_df)\n",
    "print()\n",
    "print(t.get_feature_importance().head(5))\n",
    "\n",
    "corruption_results.append({\"name\": \"missing_value_0.2\", \"train_mse\": train_mse, \"test_mse\": test_mse})"
   ]
  },
  {
   "cell_type": "code",
   "execution_count": null,
   "id": "9f45f9f3-a4c9-48f8-9d64-1439efe2b2f7",
   "metadata": {
    "tags": []
   },
   "outputs": [],
   "source": [
    "corrupted_test_df, _ = ds.corrupt_null_by_feature(test_df, \"cmc\", corruption_rate=0.20)\n",
    "\n",
    "t, train_mse, test_mse = ds.train_and_test(train_df, corrupted_test_df)\n",
    "print()\n",
    "print(t.get_feature_importance().head(5))\n",
    "\n",
    "corruption_results_by_feature.append({\"name\": \"missing_value_0.2\", \"train_mse\": train_mse, \"test_mse\": test_mse})"
   ]
  },
  {
   "cell_type": "markdown",
   "id": "d9a04bcd-a810-4acf-a308-ac34b472cb97",
   "metadata": {},
   "source": [
    "Instead of corrupting the test data, maybe we corrupt the train data. Note how the important feature values change, and the test performance is still worse than when training on clean data!"
   ]
  },
  {
   "cell_type": "code",
   "execution_count": null,
   "id": "41ae24e9-9fe2-4df9-b6ea-5407806b44c3",
   "metadata": {
    "tags": []
   },
   "outputs": [],
   "source": [
    "corrupted_train_df, _ = ds.corrupt_null_by_feature(train_df, \"cmc\", corruption_rate=0.2)\n",
    "\n",
    "t, train_mse, test_mse = ds.train_and_test(corrupted_train_df, test_df)\n",
    "print()\n",
    "print(t.get_feature_importance().head(5))"
   ]
  },
  {
   "cell_type": "markdown",
   "id": "0b19ed02-2822-4ce5-8853-21201c33fea0",
   "metadata": {},
   "source": [
    "### Violating Nonnegativity\n",
    "\n",
    "We corrupt 5% of the test data for the `cmc` sensor group. Test performance is similarly bad."
   ]
  },
  {
   "cell_type": "code",
   "execution_count": null,
   "id": "edb690fb-7e53-4d9f-881e-f62f82b7ec63",
   "metadata": {},
   "outputs": [],
   "source": [
    "corrupted_test_df, corrupted_cols = ds.corrupt_nonnegative(test_df, \"cmc\", corruption_rate=0.05)\n",
    "\n",
    "print(f\"Corrupted columns: {corrupted_cols}\")\n",
    "print()\n",
    "\n",
    "t, train_mse, test_mse = ds.train_and_test(train_df, corrupted_test_df)\n",
    "print()\n",
    "print(t.get_feature_importance().head(5))\n",
    "\n",
    "corruption_results.append({\"name\": \"violate_nonnegative\", \"train_mse\": train_mse, \"test_mse\": test_mse})"
   ]
  },
  {
   "cell_type": "code",
   "execution_count": null,
   "id": "0372a02d-2c8f-42d5-870a-2f80424b51e6",
   "metadata": {
    "tags": []
   },
   "outputs": [],
   "source": [
    "corrupted_test_df, corrupted_cols = ds.corrupt_nonnegative_by_feature(test_df, \"cmc\", corruption_rate=0.05)\n",
    "\n",
    "print(f\"Corrupted columns: {corrupted_cols}\")\n",
    "print()\n",
    "\n",
    "t, train_mse, test_mse = ds.train_and_test(train_df, corrupted_test_df)\n",
    "print()\n",
    "print(t.get_feature_importance().head(5))\n",
    "\n",
    "corruption_results_by_feature.append({\"name\": \"violate_nonnegative\", \"train_mse\": train_mse, \"test_mse\": test_mse})"
   ]
  },
  {
   "cell_type": "markdown",
   "id": "a27df109-a32c-491f-b5e9-cc98763ac167",
   "metadata": {},
   "source": [
    "### Violating Type Checks\n",
    "\n",
    "We corrupt 5% of the test data for the `cmc` sensor group. Test performance is not as bad."
   ]
  },
  {
   "cell_type": "code",
   "execution_count": null,
   "id": "f5db1a61-296a-4972-a402-bd766d5d36cc",
   "metadata": {},
   "outputs": [],
   "source": [
    "corrupted_test_df, corrupted_cols = ds.corrupt_typecheck(test_df, \"cmc\", corruption_rate=0.05)\n",
    "\n",
    "print(f\"Corrupted columns: {corrupted_cols}\")\n",
    "print()\n",
    "\n",
    "t, train_mse, test_mse = ds.train_and_test(train_df, corrupted_test_df)\n",
    "print()\n",
    "print(t.get_feature_importance().head(5))\n",
    "\n",
    "corruption_results.append({\"name\": \"violate_typecheck\", \"train_mse\": train_mse, \"test_mse\": test_mse})"
   ]
  },
  {
   "cell_type": "code",
   "execution_count": null,
   "id": "958e5347-71c1-4c27-aee5-5fcbe29b48df",
   "metadata": {
    "tags": []
   },
   "outputs": [],
   "source": [
    "corrupted_test_df, corrupted_cols = ds.corrupt_typecheck_by_feature(test_df, \"cmc\", corruption_rate=0.05)\n",
    "\n",
    "print(f\"Corrupted columns: {corrupted_cols}\")\n",
    "print()\n",
    "\n",
    "t, train_mse, test_mse = ds.train_and_test(train_df, corrupted_test_df)\n",
    "print()\n",
    "print(t.get_feature_importance().head(5))\n",
    "\n",
    "corruption_results_by_feature.append({\"name\": \"violate_typecheck\", \"train_mse\": train_mse, \"test_mse\": test_mse})"
   ]
  },
  {
   "cell_type": "markdown",
   "id": "8da965f0-80a5-481a-bfe5-85fc6f90c88f",
   "metadata": {},
   "source": [
    "## Subtle Corruptions\n",
    "\n",
    "This is by no means an exhaustive list, but we will explore what the following corruptions do to the model performance:\n",
    "\n",
    "* Changing units (e.g., wind speed in m/s to km/s)\n",
    "* For a row, average values within a sensor group (e.g., make all gfs sensors return the same value)\n",
    "* Pin a value of a sensor for a fraction of rows (e.g., set climate_pressure to the 5th percentile)"
   ]
  },
  {
   "cell_type": "markdown",
   "id": "5a1c9d3e-9f5a-49bd-9977-d6a893f856a7",
   "metadata": {},
   "source": [
    "### Changing `gfs_temperature` from Celsius to Fahrenheit\n",
    "\n",
    "Suppose the units corruption changes the `gfs_temperature` sensor values from Celsius to Fahrenheit for 5% of rows. We can see that MSE gets noticeably worse."
   ]
  },
  {
   "cell_type": "code",
   "execution_count": null,
   "id": "6e929fa5-536f-4663-a0b8-2fef67d0c3b1",
   "metadata": {},
   "outputs": [],
   "source": [
    "corrupted_test_df, corrupted_cols = ds.corrupt_units(test_df, \"gfs_temperature\", corruption_rate=0.05)\n",
    "\n",
    "print(f\"Corrupted columns: {corrupted_cols}\")\n",
    "print()\n",
    "\n",
    "t, train_mse, test_mse = ds.train_and_test(train_df, corrupted_test_df)\n",
    "print()\n",
    "print(t.get_feature_importance().head(5))\n",
    "\n",
    "corruption_results.append({\"name\": \"corrupt_units\", \"train_mse\": train_mse, \"test_mse\": test_mse})"
   ]
  },
  {
   "cell_type": "code",
   "execution_count": null,
   "id": "90a91401-1e92-4bdf-8e94-447f3a873cf0",
   "metadata": {},
   "outputs": [],
   "source": [
    "corrupted_test_df, corrupted_cols = ds.corrupt_units_by_feature(test_df, \"gfs_temperature\", corruption_rate=0.05)\n",
    "\n",
    "print(f\"Corrupted columns: {corrupted_cols}\")\n",
    "print()\n",
    "\n",
    "t, train_mse, test_mse = ds.train_and_test(train_df, corrupted_test_df)\n",
    "print()\n",
    "print(t.get_feature_importance().head(5))\n",
    "\n",
    "corruption_results_by_feature.append({\"name\": \"corrupt_units\", \"train_mse\": train_mse, \"test_mse\": test_mse})"
   ]
  },
  {
   "cell_type": "markdown",
   "id": "27ae62aa-d894-4f01-b4fe-acf119699ed2",
   "metadata": {},
   "source": [
    "### Averaging sensor values for some rows\n",
    "\n",
    "Suppose we average `gfs` sensor values for 5% of rows. MSE also gets noticeably worse."
   ]
  },
  {
   "cell_type": "code",
   "execution_count": null,
   "id": "876584e3-f15e-414f-a820-de33a63ea153",
   "metadata": {},
   "outputs": [],
   "source": [
    "corrupted_test_df, corrupted_cols = ds.corrupt_average(test_df, \"gfs\", corruption_rate=0.05)\n",
    "\n",
    "print(f\"Corrupted columns: {corrupted_cols}\")\n",
    "print()\n",
    "\n",
    "t, train_mse, test_mse = ds.train_and_test(train_df, corrupted_test_df)\n",
    "print()\n",
    "print(t.get_feature_importance().head(5))\n",
    "\n",
    "corruption_results.append({\"name\": \"average_values\", \"train_mse\": train_mse, \"test_mse\": test_mse})"
   ]
  },
  {
   "cell_type": "code",
   "execution_count": null,
   "id": "6501f629-80a3-4777-8fd8-f5d8a7251fc9",
   "metadata": {
    "tags": []
   },
   "outputs": [],
   "source": [
    "corrupted_test_df, corrupted_cols = ds.corrupt_average_by_feature(test_df, \"gfs\", corruption_rate=0.05)\n",
    "\n",
    "print(f\"Corrupted columns: {corrupted_cols}\")\n",
    "print()\n",
    "\n",
    "t, train_mse, test_mse = ds.train_and_test(train_df, corrupted_test_df)\n",
    "print()\n",
    "print(t.get_feature_importance().head(5))\n",
    "\n",
    "corruption_results_by_feature.append({\"name\": \"average_values\", \"train_mse\": train_mse, \"test_mse\": test_mse})"
   ]
  },
  {
   "cell_type": "markdown",
   "id": "295085d2-7a81-43d5-a2ed-637c5a8d26ac",
   "metadata": {},
   "source": [
    "### Pinned Value Corruption\n",
    "\n",
    "Suppose we pin `gfs` sensor values to 1.00 for 5% of rows. MSE increases still, but not as much as the other corruptions."
   ]
  },
  {
   "cell_type": "code",
   "execution_count": null,
   "id": "9495052e-86a6-4d02-b5ad-4d01ce9340c0",
   "metadata": {},
   "outputs": [],
   "source": [
    "corrupted_test_df, corrupted_cols = ds.corrupt_pinned(test_df, \"gfs\", corruption_rate=0.05, pinned_value=1.00)\n",
    "\n",
    "print(f\"Corrupted columns: {corrupted_cols}\")\n",
    "print()\n",
    "\n",
    "t, train_mse, test_mse = ds.train_and_test(train_df, corrupted_test_df)\n",
    "print()\n",
    "print(t.get_feature_importance().head(5))\n",
    "\n",
    "corruption_results.append({\"name\": \"pin_values\", \"train_mse\": train_mse, \"test_mse\": test_mse})"
   ]
  },
  {
   "cell_type": "code",
   "execution_count": null,
   "id": "93fa2284-edcf-4bb6-b7bb-8e7051127760",
   "metadata": {
    "tags": []
   },
   "outputs": [],
   "source": [
    "corrupted_test_df, corrupted_cols = ds.corrupt_pinned_by_feature(test_df, \"gfs\", corruption_rate=0.05, pinned_value=1.00)\n",
    "\n",
    "print(f\"Corrupted columns: {corrupted_cols}\")\n",
    "print()\n",
    "\n",
    "t, train_mse, test_mse = ds.train_and_test(train_df, corrupted_test_df)\n",
    "print()\n",
    "print(t.get_feature_importance().head(5))\n",
    "\n",
    "corruption_results_by_feature.append({\"name\": \"pin_values\", \"train_mse\": train_mse, \"test_mse\": test_mse})"
   ]
  },
  {
   "cell_type": "markdown",
   "id": "bdffa258-3b6f-40aa-a722-372224ce3bbb",
   "metadata": {},
   "source": [
    "## Takeaways\n",
    "\n",
    "How can we prevent against the corruptions demonstrated above? We'll want to run various data validation methods. The challenge is having methods work (1) _without knowledge of_ the specific corruption, since we can't anticipate and enumerate all possible corruptions, and (2) flag all corruptions precisely (i.e., no false positives). We'll explore this later."
   ]
  },
  {
   "cell_type": "code",
   "execution_count": null,
   "id": "ebe4d79e-096f-4dba-bd6f-320a5353da30",
   "metadata": {},
   "outputs": [],
   "source": [
    "import matplotlib.pyplot as plt\n",
    "\n",
    "results_df = pd.DataFrame(corruption_results).rename(columns={\"train_mse\": \"by_sample_train_mse\", \"test_mse\": \"by_sample_test_mse\"})\n",
    "results_df[\"by_feature_train_mse\"] = pd.DataFrame(corruption_results_by_feature)[\"train_mse\"]\n",
    "results_df[\"by_feature_test_mse\"] = pd.DataFrame(corruption_results_by_feature)[\"test_mse\"]\n",
    "# Log results to W&B table\n",
    "run.log({\"corruption_results\": wandb.Table(dataframe=results_df)})\n",
    "plt.plot(results_df[\"name\"], results_df[\"by_sample_train_mse\"], label=\"train_mse by sample\")\n",
    "plt.plot(results_df[\"name\"], results_df[\"by_feature_train_mse\"], label=\"train_mse by feature\")\n",
    "plt.plot(results_df[\"name\"], results_df[\"by_sample_test_mse\"], label=\"test_mse by sample\")\n",
    "plt.plot(results_df[\"name\"], results_df[\"by_feature_test_mse\"], label=\"test_mse by feature\")\n",
    "plt.xticks(rotation=90)\n",
    "plt.legend()\n",
    "plt.title(\"MSEs for different corruptions\")\n",
    "# Log plot to W&B\n",
    "run.log({\"corruption_plot\": wandb.Image(plt)})\n",
    "plt.show()"
   ]
  },
  {
   "cell_type": "code",
   "execution_count": null,
   "id": "2df8a42c-f4e3-4775-bcdd-867748454ca9",
   "metadata": {},
   "outputs": [],
   "source": [
    "# We can finish now the W&B run\n",
    "run.finish()"
   ]
  },
  {
   "cell_type": "code",
   "execution_count": null,
   "id": "23ebe5c8-f4a0-4108-bb63-460c070bd847",
   "metadata": {},
   "outputs": [],
   "source": []
  }
 ],
 "metadata": {
  "kernelspec": {
   "display_name": "Python 3 (ipykernel)",
   "language": "python",
   "name": "python3"
  },
  "language_info": {
   "codemirror_mode": {
    "name": "ipython",
    "version": 3
   },
   "file_extension": ".py",
   "mimetype": "text/x-python",
   "name": "python",
   "nbconvert_exporter": "python",
   "pygments_lexer": "ipython3",
   "version": "3.8.17"
  }
 },
 "nbformat": 4,
 "nbformat_minor": 5
}
